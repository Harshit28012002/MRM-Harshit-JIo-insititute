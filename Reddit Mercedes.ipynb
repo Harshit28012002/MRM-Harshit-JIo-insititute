{
  "nbformat": 4,
  "nbformat_minor": 0,
  "metadata": {
    "colab": {
      "provenance": [],
      "authorship_tag": "ABX9TyMHtterTEvAp5/2n8gjbDts",
      "include_colab_link": true
    },
    "kernelspec": {
      "name": "python3",
      "display_name": "Python 3"
    },
    "language_info": {
      "name": "python"
    }
  },
  "cells": [
    {
      "cell_type": "markdown",
      "metadata": {
        "id": "view-in-github",
        "colab_type": "text"
      },
      "source": [
        "<a href=\"https://colab.research.google.com/github/Harshit28012002/MRM-Harshit-JIo-insititute/blob/main/Reddit%20Mercedes.ipynb\" target=\"_parent\"><img src=\"https://colab.research.google.com/assets/colab-badge.svg\" alt=\"Open In Colab\"/></a>"
      ]
    },
    {
      "cell_type": "code",
      "execution_count": null,
      "metadata": {
        "colab": {
          "base_uri": "https://localhost:8080/",
          "height": 383
        },
        "id": "m7sNw9if1zku",
        "outputId": "cf39cd5c-1089-43c0-95d2-83bed8680e8f"
      },
      "outputs": [
        {
          "output_type": "error",
          "ename": "ModuleNotFoundError",
          "evalue": "No module named 'praw'",
          "traceback": [
            "\u001b[0;31m---------------------------------------------------------------------------\u001b[0m",
            "\u001b[0;31mModuleNotFoundError\u001b[0m                       Traceback (most recent call last)",
            "\u001b[0;32m<ipython-input-1-5c148c139d70>\u001b[0m in \u001b[0;36m<cell line: 1>\u001b[0;34m()\u001b[0m\n\u001b[0;32m----> 1\u001b[0;31m \u001b[0;32mimport\u001b[0m \u001b[0mpraw\u001b[0m\u001b[0;34m\u001b[0m\u001b[0;34m\u001b[0m\u001b[0m\n\u001b[0m\u001b[1;32m      2\u001b[0m \u001b[0;34m\u001b[0m\u001b[0m\n\u001b[1;32m      3\u001b[0m \u001b[0;31m# Read-only access setup\u001b[0m\u001b[0;34m\u001b[0m\u001b[0;34m\u001b[0m\u001b[0m\n\u001b[1;32m      4\u001b[0m reddit = praw.Reddit(\n\u001b[1;32m      5\u001b[0m     \u001b[0mclient_id\u001b[0m\u001b[0;34m=\u001b[0m\u001b[0;34m\"0AmnPigLZ6SXtWFhmbPEmA\"\u001b[0m\u001b[0;34m,\u001b[0m\u001b[0;34m\u001b[0m\u001b[0;34m\u001b[0m\u001b[0m\n",
            "\u001b[0;31mModuleNotFoundError\u001b[0m: No module named 'praw'",
            "",
            "\u001b[0;31m---------------------------------------------------------------------------\u001b[0;32m\nNOTE: If your import is failing due to a missing package, you can\nmanually install dependencies using either !pip or !apt.\n\nTo view examples of installing some common dependencies, click the\n\"Open Examples\" button below.\n\u001b[0;31m---------------------------------------------------------------------------\u001b[0m\n"
          ],
          "errorDetails": {
            "actions": [
              {
                "action": "open_url",
                "actionText": "Open Examples",
                "url": "/notebooks/snippets/importing_libraries.ipynb"
              }
            ]
          }
        }
      ],
      "source": [
        "import praw\n",
        "\n",
        "# Read-only access setup\n",
        "reddit = praw.Reddit(\n",
        "    client_id=\"0AmnPigLZ6SXtWFhmbPEmA\",\n",
        "    client_secret=\"Yj4wWZcOyO4nZ21l37py88RoxZ8uMw\",\n",
        "    user_agent=\"Mercedes Sentiment Analysis by u/Right_Week7178\"\n",
        ")\n",
        "\n",
        "# Test the connection\n",
        "print(\"Read-only mode:\", reddit.read_only)  # Should print True\n"
      ]
    },
    {
      "cell_type": "code",
      "source": [
        "!pip install praw\n"
      ],
      "metadata": {
        "colab": {
          "base_uri": "https://localhost:8080/"
        },
        "id": "QX5NbD-h2oSK",
        "outputId": "fa5379ac-fb34-45ca-9c6c-8110dd92aa56"
      },
      "execution_count": null,
      "outputs": [
        {
          "output_type": "stream",
          "name": "stdout",
          "text": [
            "Collecting praw\n",
            "  Downloading praw-7.8.1-py3-none-any.whl.metadata (9.4 kB)\n",
            "Collecting prawcore<3,>=2.4 (from praw)\n",
            "  Downloading prawcore-2.4.0-py3-none-any.whl.metadata (5.0 kB)\n",
            "Collecting update_checker>=0.18 (from praw)\n",
            "  Downloading update_checker-0.18.0-py3-none-any.whl.metadata (2.3 kB)\n",
            "Requirement already satisfied: websocket-client>=0.54.0 in /usr/local/lib/python3.10/dist-packages (from praw) (1.8.0)\n",
            "Requirement already satisfied: requests<3.0,>=2.6.0 in /usr/local/lib/python3.10/dist-packages (from prawcore<3,>=2.4->praw) (2.32.3)\n",
            "Requirement already satisfied: charset-normalizer<4,>=2 in /usr/local/lib/python3.10/dist-packages (from requests<3.0,>=2.6.0->prawcore<3,>=2.4->praw) (3.4.1)\n",
            "Requirement already satisfied: idna<4,>=2.5 in /usr/local/lib/python3.10/dist-packages (from requests<3.0,>=2.6.0->prawcore<3,>=2.4->praw) (3.10)\n",
            "Requirement already satisfied: urllib3<3,>=1.21.1 in /usr/local/lib/python3.10/dist-packages (from requests<3.0,>=2.6.0->prawcore<3,>=2.4->praw) (2.3.0)\n",
            "Requirement already satisfied: certifi>=2017.4.17 in /usr/local/lib/python3.10/dist-packages (from requests<3.0,>=2.6.0->prawcore<3,>=2.4->praw) (2024.12.14)\n",
            "Downloading praw-7.8.1-py3-none-any.whl (189 kB)\n",
            "\u001b[2K   \u001b[90m━━━━━━━━━━━━━━━━━━━━━━━━━━━━━━━━━━━━━━━━\u001b[0m \u001b[32m189.3/189.3 kB\u001b[0m \u001b[31m4.1 MB/s\u001b[0m eta \u001b[36m0:00:00\u001b[0m\n",
            "\u001b[?25hDownloading prawcore-2.4.0-py3-none-any.whl (17 kB)\n",
            "Downloading update_checker-0.18.0-py3-none-any.whl (7.0 kB)\n",
            "Installing collected packages: update_checker, prawcore, praw\n",
            "Successfully installed praw-7.8.1 prawcore-2.4.0 update_checker-0.18.0\n"
          ]
        }
      ]
    },
    {
      "cell_type": "code",
      "source": [
        "import praw\n",
        "\n",
        "# Read-only access setup\n",
        "reddit = praw.Reddit(\n",
        "    client_id=\"0AmnPigLZ6SXtWFhmbPEmA\",\n",
        "    client_secret=\"Yj4wWZcOyO4nZ21l37py88RoxZ8uMw\",\n",
        "    user_agent=\"Mercedes Sentiment Analysis by u/Right_Week7178\"\n",
        ")\n",
        "\n",
        "# Test the connection\n",
        "print(\"Read-only mode:\", reddit.read_only)  # Should print True"
      ],
      "metadata": {
        "colab": {
          "base_uri": "https://localhost:8080/"
        },
        "id": "8vogQUUH2vMZ",
        "outputId": "199bdcd4-f846-4d97-8a32-a0bb45839fc9"
      },
      "execution_count": null,
      "outputs": [
        {
          "output_type": "stream",
          "name": "stdout",
          "text": [
            "Read-only mode: True\n"
          ]
        }
      ]
    },
    {
      "cell_type": "code",
      "source": [
        "# Fetch posts from all subreddits containing the keyword \"Mercedes\"\n",
        "search_query = \"Mercedes\"\n",
        "subreddit = reddit.subreddit(\"all\")  # Replace with a specific subreddit if needed (e.g., 'cars')\n",
        "\n",
        "posts = []\n",
        "for post in subreddit.search(search_query, limit=100):\n",
        "    posts.append({\n",
        "        \"title\": post.title,\n",
        "        \"score\": post.score,\n",
        "        \"comments\": post.num_comments,\n",
        "        \"body\": post.selftext\n",
        "    })\n",
        "\n",
        "# Check the fetched posts\n",
        "print(f\"Fetched {len(posts)} posts related to '{search_query}'.\")\n"
      ],
      "metadata": {
        "colab": {
          "base_uri": "https://localhost:8080/"
        },
        "id": "85EnStkW25Pi",
        "outputId": "b6cc9a8f-d316-4ac0-8222-52be438ea980"
      },
      "execution_count": null,
      "outputs": [
        {
          "output_type": "stream",
          "name": "stderr",
          "text": [
            "WARNING:praw:It appears that you are using PRAW in an asynchronous environment.\n",
            "It is strongly recommended to use Async PRAW: https://asyncpraw.readthedocs.io.\n",
            "See https://praw.readthedocs.io/en/latest/getting_started/multiple_instances.html#discord-bots-and-asynchronous-environments for more info.\n",
            "\n"
          ]
        },
        {
          "output_type": "stream",
          "name": "stdout",
          "text": [
            "Fetched 100 posts related to 'Mercedes'.\n"
          ]
        }
      ]
    },
    {
      "cell_type": "code",
      "source": [
        "import warnings\n",
        "warnings.filterwarnings(\"ignore\", category=UserWarning, module=\"praw\")\n"
      ],
      "metadata": {
        "id": "zdtiIdyV3J6p"
      },
      "execution_count": null,
      "outputs": []
    },
    {
      "cell_type": "code",
      "source": [
        "for i, post in enumerate(posts[:5]):  # Display the first 5 posts\n",
        "    print(f\"Post {i + 1}: {post['title']}\")\n",
        "    print(f\"Score: {post['score']}\")\n",
        "    print(f\"Comments: {post['comments']}\")\n",
        "    print(f\"Body: {post['body'][:200]}...\")  # Show the first 200 characters of the body\n",
        "    print(\"-\" * 50)\n"
      ],
      "metadata": {
        "colab": {
          "base_uri": "https://localhost:8080/"
        },
        "id": "Mc-mG7zd3mVK",
        "outputId": "0b17bcad-f81a-402e-9104-2ce79e4f6f62"
      },
      "execution_count": null,
      "outputs": [
        {
          "output_type": "stream",
          "name": "stdout",
          "text": [
            "Post 1: Em and Mercedes post show \n",
            "Score: 74\n",
            "Comments: 58\n",
            "Body: Lol at least they know that they won because people were voting for em and Mercedes just happened to be there too. ...\n",
            "--------------------------------------------------\n",
            "Post 2: Mercedes 👎\n",
            "Score: 85\n",
            "Comments: 80\n",
            "Body: Dude is from multiple seasons of FBoy Island but now wears contacts. The way he just accepts the compliment from Sophie about his eyes and no mentions of his super messy ways in the US are giving stil...\n",
            "--------------------------------------------------\n",
            "Post 3: Em <3 and Mercedes \n",
            "Score: 172\n",
            "Comments: 125\n",
            "Body: Mercedes just blocked Em, also repost didn’t mean to spoil anything guys sorry!! ...\n",
            "--------------------------------------------------\n",
            "Post 4: Mercedes roa\n",
            "Score: 74\n",
            "Comments: 2\n",
            "Body: ...\n",
            "--------------------------------------------------\n",
            "Post 5: Em and Mercedes relationship status \n",
            "Score: 173\n",
            "Comments: 236\n",
            "Body: This is sad to hear. Still happy she got money though. ...\n",
            "--------------------------------------------------\n"
          ]
        }
      ]
    },
    {
      "cell_type": "code",
      "source": [
        "from textblob import TextBlob\n",
        "\n",
        "# Add sentiment analysis to each post\n",
        "for post in posts:\n",
        "    title_sentiment = TextBlob(post[\"title\"]).sentiment.polarity\n",
        "    body_sentiment = TextBlob(post[\"body\"]).sentiment.polarity\n",
        "    post[\"title_sentiment\"] = title_sentiment\n",
        "    post[\"body_sentiment\"] = body_sentiment\n",
        "    post[\"overall_sentiment\"] = (title_sentiment + body_sentiment) / 2  # Combine title and body sentiment\n"
      ],
      "metadata": {
        "id": "puJg99xH3vZ_"
      },
      "execution_count": null,
      "outputs": []
    },
    {
      "cell_type": "code",
      "source": [
        "for post in posts:\n",
        "    if post[\"overall_sentiment\"] > 0:\n",
        "        post[\"sentiment_label\"] = \"positive\"\n",
        "    elif post[\"overall_sentiment\"] < 0:\n",
        "        post[\"sentiment_label\"] = \"negative\"\n",
        "    else:\n",
        "        post[\"sentiment_label\"] = \"neutral\"\n"
      ],
      "metadata": {
        "id": "g6Hn5lrP35tU"
      },
      "execution_count": null,
      "outputs": []
    },
    {
      "cell_type": "code",
      "source": [
        "import pandas as pd\n",
        "\n",
        "df = pd.DataFrame(posts)\n",
        "print(df.head())  # Display the first few rows\n"
      ],
      "metadata": {
        "colab": {
          "base_uri": "https://localhost:8080/"
        },
        "id": "Ki1RgVLZ39C8",
        "outputId": "ae8f0989-6e60-45d5-b4ce-ef0321cffdfc"
      },
      "execution_count": null,
      "outputs": [
        {
          "output_type": "stream",
          "name": "stdout",
          "text": [
            "                                  title  score  comments  \\\n",
            "0            Em and Mercedes post show      74        58   \n",
            "1                            Mercedes 👎     85        80   \n",
            "2                   Em <3 and Mercedes     172       125   \n",
            "3                          Mercedes roa     74         2   \n",
            "4  Em and Mercedes relationship status     173       236   \n",
            "\n",
            "                                                body  title_sentiment  \\\n",
            "0  Lol at least they know that they won because p...              0.0   \n",
            "1  Dude is from multiple seasons of FBoy Island b...              0.0   \n",
            "2  Mercedes just blocked Em, also repost didn’t m...              1.0   \n",
            "3                                                                 0.0   \n",
            "4  This is sad to hear. Still happy she got money...              0.0   \n",
            "\n",
            "   body_sentiment  overall_sentiment sentiment_label  \n",
            "0        0.250000           0.125000        positive  \n",
            "1        0.044444           0.022222        positive  \n",
            "2       -0.546875           0.226562        positive  \n",
            "3        0.000000           0.000000         neutral  \n",
            "4        0.150000           0.075000        positive  \n"
          ]
        }
      ]
    },
    {
      "cell_type": "code",
      "source": [
        "import seaborn as sns\n",
        "import matplotlib.pyplot as plt\n",
        "\n",
        "# Sentiment distribution\n",
        "sns.countplot(data=df, x=\"sentiment_label\", palette=\"viridis\")\n",
        "plt.title(\"Sentiment Analysis of Mercedes Posts\")\n",
        "plt.xlabel(\"Sentiment\")\n",
        "plt.ylabel(\"Number of Posts\")\n",
        "plt.show()\n",
        "\n",
        "# Sentiment polarity distribution\n",
        "sns.histplot(df[\"overall_sentiment\"], bins=20, kde=True, color=\"blue\")\n",
        "plt.title(\"Sentiment Polarity Distribution of Mercedes Posts\")\n",
        "plt.xlabel(\"Sentiment Polarity\")\n",
        "plt.show()\n"
      ],
      "metadata": {
        "id": "R1SibfR74AJG",
        "outputId": "f392db86-1caf-403e-fbd7-d770163bed06",
        "colab": {
          "base_uri": "https://localhost:8080/",
          "height": 1000
        }
      },
      "execution_count": null,
      "outputs": [
        {
          "output_type": "stream",
          "name": "stderr",
          "text": [
            "<ipython-input-10-3c486165c284>:5: FutureWarning: \n",
            "\n",
            "Passing `palette` without assigning `hue` is deprecated and will be removed in v0.14.0. Assign the `x` variable to `hue` and set `legend=False` for the same effect.\n",
            "\n",
            "  sns.countplot(data=df, x=\"sentiment_label\", palette=\"viridis\")\n"
          ]
        },
        {
          "output_type": "display_data",
          "data": {
            "text/plain": [
              "<Figure size 640x480 with 1 Axes>"
            ],
            "image/png": "[encoded data removed]"
          },
          "metadata": {}
        },
        {
          "output_type": "display_data",
          "data": {
            "text/plain": [
              "<Figure size 640x480 with 1 Axes>"
            ],
            "image/png": "[encoded data removed]"
          },
          "metadata": {}
        }
      ]
    }
  ]
}